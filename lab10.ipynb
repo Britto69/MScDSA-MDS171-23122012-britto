{
 "cells": [
  {
   "cell_type": "markdown",
   "metadata": {},
   "source": [
    "23122012"
   ]
  },
  {
   "cell_type": "markdown",
   "metadata": {},
   "source": [
    "26/10/20203"
   ]
  },
  {
   "cell_type": "markdown",
   "metadata": {},
   "source": [
    "LAB 10"
   ]
  },
  {
   "cell_type": "code",
   "execution_count": 1,
   "metadata": {},
   "outputs": [
    {
     "name": "stdout",
     "output_type": "stream",
     "text": [
      "\n",
      "Menu:\n",
      "1. Add Student\n",
      "2. Add Marks\n",
      "3. Display Student Details\n",
      "4. Exit\n",
      "Exiting program. Goodbye!\n"
     ]
    }
   ],
   "source": [
    "class Student:\n",
    "    def __init__(self, name, roll_number):\n",
    "        self.name = name\n",
    "        self.roll_number = roll_number\n",
    "        self.marks = {}\n",
    "\n",
    "    def add_marks(self, subject, score):\n",
    "        self.marks[subject] = score\n",
    "\n",
    "    def get_average_marks(self):\n",
    "        total_marks = sum(self.marks.values())\n",
    "        subjects_count = len(self.marks)\n",
    "        if subjects_count == 0:\n",
    "            return 0\n",
    "        return total_marks / subjects_count\n",
    "\n",
    "    def display_details(self):\n",
    "        print(f\"Student Name: {self.name}\")\n",
    "        print(f\"Roll Number: {self.roll_number}\")\n",
    "        print(\"Marks:\")\n",
    "        for subject, score in self.marks.items():\n",
    "            print(f\"{subject}: {score}\")\n",
    "        print(f\"Average Marks: {self.get_average_marks()}\")\n",
    "\n",
    "def main():\n",
    "    students = {}\n",
    "\n",
    "    while True:\n",
    "        print(\"\\nMenu:\")\n",
    "        print(\"1. Add Student\")\n",
    "        print(\"2. Add Marks\")\n",
    "        print(\"3. Display Student Details\")\n",
    "        print(\"4. Exit\")\n",
    "        choice = input(\"Enter your choice: \")\n",
    "\n",
    "        if choice == \"1\":\n",
    "            name = input(\"Enter student name: \")\n",
    "            roll_number = input(\"Enter roll number: \")\n",
    "            student = Student(name, roll_number)\n",
    "            students[roll_number] = student\n",
    "            print(\"Student added successfully.\")\n",
    "\n",
    "        elif choice == \"2\":\n",
    "            roll_number = input(\"Enter student's roll number: \")\n",
    "            if roll_number in students:\n",
    "                subject = input(\"Enter subject: \")\n",
    "                score = int(input(\"Enter marks: \"))\n",
    "                students[roll_number].add_marks(subject, score)\n",
    "                print(\"Marks added successfully.\")\n",
    "            else:\n",
    "                print(\"Student not found.\")\n",
    "\n",
    "        elif choice == \"3\":\n",
    "            roll_number = input(\"Enter student's roll number: \")\n",
    "            if roll_number in students:\n",
    "                students[roll_number].display_details()\n",
    "            else:\n",
    "                print(\"Student not found.\")\n",
    "\n",
    "        elif choice == \"4\":\n",
    "            print(\"Exiting program. Goodbye!\")\n",
    "            break\n",
    "\n",
    "        else:\n",
    "            print(\"Invalid choice. Please try again.\")\n",
    "\n",
    "if __name__ == \"__main__\":\n",
    "    main()\n"
   ]
  }
 ],
 "metadata": {
  "kernelspec": {
   "display_name": "Python 3",
   "language": "python",
   "name": "python3"
  },
  "language_info": {
   "codemirror_mode": {
    "name": "ipython",
    "version": 3
   },
   "file_extension": ".py",
   "mimetype": "text/x-python",
   "name": "python",
   "nbconvert_exporter": "python",
   "pygments_lexer": "ipython3",
   "version": "3.11.4"
  },
  "orig_nbformat": 4
 },
 "nbformat": 4,
 "nbformat_minor": 2
}
