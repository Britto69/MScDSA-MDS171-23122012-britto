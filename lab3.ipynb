{
 "cells": [
  {
   "cell_type": "markdown",
   "metadata": {},
   "source": [
    "[761, 123, 585, 275, 194, 840, 999, 622, 763, 40, 825, 687, 402, 338, 611, 987, 739, 95, 819, 568, 320, 126, 688, 948, 514, 223, 751, 379, 857, 767, 492, 162, 437, 934, 430, 343, 725, 511, 580, 678, 708, 823, 346, 179, 786, 663, 195, 890, 267, 502, 214, 300, 786, 961, 235, 559, 992, 919, 948, 318, 57, 787, 653, 317, 305, 172, 966, 182, 970, 17, 89, 624, 629, 595, 485, 752, 984, 978, 460, 124, 321, 256, 614, 852, 811, 561, 127, 207, 406, 615, 888, 391, 691, 470, 911, 401, 137, 600, 478, 682]\n",
    "\n",
    "The values that Arithmetica is looking at are:\n",
    "\n",
    "Mean\n",
    "Minimum\n",
    "Maximum\n",
    "Range"
   ]
  },
  {
   "cell_type": "code",
   "execution_count": 11,
   "metadata": {},
   "outputs": [],
   "source": [
    "numbers = [761, 123, 585, 275, 194, 840, 999, 622, 763, 40, 825, 687, 402, 338, 611, 987, 739, 95, 819, 568, 320, 126, 688, 948, 514, 223, 751, 379, 857, 767, 492, 162, 437, 934, 430, 343, 725, 511, 580, 678, 708, 823, 346, 179, 786, 663, 195, 890, 267, 502, 214, 300, 786, 961, 235, 559, 992, 919, 948, 318, 57, 787, 653, 317, 305, 172, 966, 182, 970, 17, 89, 624, 629, 595, 485, 752, 984, 978, 460, 124, 321, 256, 614, 852, 811, 561, 127, 207, 406, 615, 888, 391, 691, 470, 911, 401, 137, 600, 478, 682]"
   ]
  },
  {
   "cell_type": "code",
   "execution_count": 2,
   "metadata": {},
   "outputs": [
    {
     "data": {
      "text/plain": [
       "54294"
      ]
     },
     "execution_count": 2,
     "metadata": {},
     "output_type": "execute_result"
    }
   ],
   "source": [
    "sum(numbers)\n"
   ]
  },
  {
   "cell_type": "code",
   "execution_count": 4,
   "metadata": {},
   "outputs": [
    {
     "data": {
      "text/plain": [
       "100"
      ]
     },
     "execution_count": 4,
     "metadata": {},
     "output_type": "execute_result"
    }
   ],
   "source": [
    "len(numbers) "
   ]
  },
  {
   "cell_type": "code",
   "execution_count": 3,
   "metadata": {},
   "outputs": [
    {
     "name": "stdout",
     "output_type": "stream",
     "text": [
      "54294\n",
      "542.94\n"
     ]
    }
   ],
   "source": [
    "num=0\n",
    "length=0\n",
    "for i in range (len(numbers)):\n",
    "    num=num+(numbers[i])\n",
    "    for i in numbers:\n",
    "        length=i+1\n",
    "print (num)    \n",
    "print (num/(len(numbers)))"
   ]
  },
  {
   "cell_type": "code",
   "execution_count": 13,
   "metadata": {},
   "outputs": [
    {
     "name": "stdout",
     "output_type": "stream",
     "text": [
      "The maximum value is: 999\n",
      "The maximum value using in-built functions is 999\n"
     ]
    }
   ],
   "source": [
    "maximum=numbers[0]\n",
    "length=100\n",
    "for i in range(length):\n",
    "    if maximum>numbers[i]:\n",
    "        maximum=maximum\n",
    "    else:\n",
    "        maximum=numbers[i]\n",
    "print(\"The maximum value is:\", maximum)\n",
    "print(\"The maximum value using in-built functions is\",max(numbers))"
   ]
  },
  {
   "cell_type": "code",
   "execution_count": 14,
   "metadata": {},
   "outputs": [
    {
     "name": "stdout",
     "output_type": "stream",
     "text": [
      "The minimum value is: 17\n",
      "The minimum value using in-built functions is 17\n"
     ]
    }
   ],
   "source": [
    "minimum=numbers[0]\n",
    "length=100\n",
    "for i in range(length):\n",
    "    if minimum<numbers[i]:\n",
    "        minimum=minimum\n",
    "    else:\n",
    "        minimum=numbers[i]\n",
    "print(\"The minimum value is:\", minimum)\n",
    "print(\"The minimum value using in-built functions is\",min(numbers))"
   ]
  },
  {
   "cell_type": "code",
   "execution_count": 4,
   "metadata": {},
   "outputs": [],
   "source": [
    "def find_minimum_value(numbers):\n",
    "    \n",
    "    min_value = numbers[0]  \n",
    "   \n",
    "    \n",
    "\n",
    "    for i in range(1, len(numbers)):\n",
    "        if numbers[i] < min_value:\n",
    "            min_value = numbers[i]\n",
    "\n",
    "    return min_value"
   ]
  },
  {
   "cell_type": "code",
   "execution_count": 5,
   "metadata": {},
   "outputs": [
    {
     "name": "stdout",
     "output_type": "stream",
     "text": [
      "The minimum value in the list is: 17\n"
     ]
    }
   ],
   "source": [
    "minimum_value = find_minimum_value(numbers)\n",
    "print(f\"The minimum value in the list is: {minimum_value}\")"
   ]
  },
  {
   "cell_type": "code",
   "execution_count": 22,
   "metadata": {},
   "outputs": [],
   "source": [
    "def find_maximum_value(numbers):\n",
    "    \n",
    "    max_value = numbers[0]  \n",
    "   \n",
    "    \n",
    "\n",
    "    for i in range(1, len(numbers)):\n",
    "        if numbers[i] > max_value:\n",
    "            max_value = numbers[i]\n",
    "\n",
    "    return max_value"
   ]
  },
  {
   "cell_type": "code",
   "execution_count": 23,
   "metadata": {},
   "outputs": [
    {
     "name": "stdout",
     "output_type": "stream",
     "text": [
      "The maximum value in the list is: 999\n"
     ]
    }
   ],
   "source": [
    "maximum_value = find_maximum_value(numbers)\n",
    "print(f\"The maximum value in the list is: {maximum_value}\")"
   ]
  },
  {
   "cell_type": "code",
   "execution_count": 27,
   "metadata": {},
   "outputs": [
    {
     "name": "stdout",
     "output_type": "stream",
     "text": [
      "range is: 982\n"
     ]
    }
   ],
   "source": [
    "range=(maximum_value-minimum_value)\n",
    "print(\"range is:\",range)\n"
   ]
  }
 ],
 "metadata": {
  "kernelspec": {
   "display_name": "Python 3",
   "language": "python",
   "name": "python3"
  },
  "language_info": {
   "codemirror_mode": {
    "name": "ipython",
    "version": 3
   },
   "file_extension": ".py",
   "mimetype": "text/x-python",
   "name": "python",
   "nbconvert_exporter": "python",
   "pygments_lexer": "ipython3",
   "version": "3.11.4"
  },
  "orig_nbformat": 4
 },
 "nbformat": 4,
 "nbformat_minor": 2
}
