{
 "cells": [
  {
   "cell_type": "code",
   "execution_count": 2,
   "metadata": {},
   "outputs": [
    {
     "name": "stdout",
     "output_type": "stream",
     "text": [
      "hello world\n"
     ]
    }
   ],
   "source": [
    "print(\"hello world\")"
   ]
  },
  {
   "cell_type": "code",
   "execution_count": 20,
   "metadata": {},
   "outputs": [
    {
     "name": "stdout",
     "output_type": "stream",
     "text": [
      "0\n",
      "1\n",
      "2\n",
      "3\n",
      "4\n",
      "5\n",
      "6\n"
     ]
    }
   ],
   "source": [
    "a=0\n",
    "while a<=6:\n",
    "    print (a)\n",
    "    a=a+1\n",
    "  \n",
    "\n"
   ]
  },
  {
   "cell_type": "code",
   "execution_count": null,
   "metadata": {},
   "outputs": [],
   "source": [
    "print(\"Start of the program\")\n",
    "a= int(input(\"enter a number\"))\n",
    "if == 5:\n",
    "    print(\"the value is five\")\n",
    "else:\n",
    "    print(\"this is theelse test\")\n",
    "    "
   ]
  },
  {
   "cell_type": "code",
   "execution_count": 13,
   "metadata": {},
   "outputs": [
    {
     "name": "stdout",
     "output_type": "stream",
     "text": [
      "Start of thr program\n",
      "the value if five\n",
      "program end\n"
     ]
    }
   ],
   "source": [
    "print(\"Start of thr program\")\n",
    "a=5\n",
    "if a==5 :\n",
    "    print(\"the value if five\")\n",
    "print(\"program end\")"
   ]
  },
  {
   "cell_type": "code",
   "execution_count": 23,
   "metadata": {},
   "outputs": [
    {
     "name": "stdout",
     "output_type": "stream",
     "text": [
      "The number 2.2 is Odd.\n"
     ]
    }
   ],
   "source": [
    "def check_odd_even(number):\n",
    "    if number % 2 == 0:\n",
    "        return \"Even\"\n",
    "    else:\n",
    "        return \"Odd\"\n",
    "\n",
    "\n",
    "num = eval(input(\"Enter a number: \"))\n",
    "\n",
    "result = check_odd_even(num)\n",
    "print(f\"The number {num} is {result}.\")"
   ]
  },
  {
   "cell_type": "code",
   "execution_count": 24,
   "metadata": {},
   "outputs": [
    {
     "name": "stdout",
     "output_type": "stream",
     "text": [
      "The largest number is: 67.0\n",
      "Numbers in ascending order: [6.0, 8.0, 67.0]\n"
     ]
    }
   ],
   "source": [
    "num1 = float(input(\"Enter the first number: \"))\n",
    "num2 = float(input(\"Enter the second number: \"))\n",
    "num3 = float(input(\"Enter the third number: \"))\n",
    "\n",
    "# Find the largest number\n",
    "largest = max(num1, num2, num3)\n",
    "print(\"The largest number is:\", largest)\n",
    "\n",
    "# Arrange the numbers in ascending order\n",
    "numbers = [num1, num2, num3]\n",
    "numbers.sort()\n",
    "print(\"Numbers in ascending order:\", numbers)"
   ]
  },
  {
   "cell_type": "code",
   "execution_count": 42,
   "metadata": {},
   "outputs": [],
   "source": [
    "name=[]\n",
    "def Name(n):\n",
    "    for i in n:\n",
    "        if i.isdigit():\n",
    "            print(\"ERROR\")\n",
    "            return\n",
    "    if n =='q':\n",
    "        print(\"this is the list\",n)\n",
    "    elif n in name:\n",
    "        print(n,\"name alredy exist\")\n",
    "    else:\n",
    "        name.append(n)\n",
    "        print(n,\"name entered successfullllyyyyy\")\n",
    "\n"
   ]
  },
  {
   "cell_type": "code",
   "execution_count": 43,
   "metadata": {},
   "outputs": [
    {
     "name": "stdout",
     "output_type": "stream",
     "text": [
      "brhr name entered successfullllyyyyy\n"
     ]
    }
   ],
   "source": [
    "Name('brhr')"
   ]
  }
 ],
 "metadata": {
  "kernelspec": {
   "display_name": "Python 3",
   "language": "python",
   "name": "python3"
  },
  "language_info": {
   "codemirror_mode": {
    "name": "ipython",
    "version": 3
   },
   "file_extension": ".py",
   "mimetype": "text/x-python",
   "name": "python",
   "nbconvert_exporter": "python",
   "pygments_lexer": "ipython3",
   "version": "3.11.4"
  },
  "orig_nbformat": 4
 },
 "nbformat": 4,
 "nbformat_minor": 2
}
