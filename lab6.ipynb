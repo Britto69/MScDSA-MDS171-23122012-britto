{
 "cells": [
  {
   "cell_type": "code",
   "execution_count": null,
   "metadata": {},
   "outputs": [],
   "source": []
  },
  {
   "cell_type": "code",
   "execution_count": null,
   "metadata": {},
   "outputs": [],
   "source": []
  },
  {
   "cell_type": "code",
   "execution_count": null,
   "metadata": {},
   "outputs": [],
   "source": []
  },
  {
   "cell_type": "code",
   "execution_count": 2,
   "metadata": {},
   "outputs": [],
   "source": [
    "def count_vowels(input_string):\n",
    "    vowels = \"AEIOUaeiou\"\n",
    "    vowel_count = {}\n",
    "    total_vowels = 0\n",
    "\n",
    "    for char in input_string:\n",
    "        if char in vowels:\n",
    "            char = char.upper()  # Convert to uppercase for consistent counting\n",
    "            vowel_count[char] = vowel_count.get(char, 0) + 1\n",
    "            total_vowels += 1\n",
    "\n",
    "    return total_vowels, vowel_count\n",
    "\n",
    "def main():\n",
    "    user_input = input(\"Enter a string: \")\n",
    "    total_vowels, vowel_count = count_vowels(user_input)\n",
    "\n",
    "    print(\"\\nTotal number of vowels:\", total_vowels)\n",
    "\n",
    "    print(\"\\nVowel counts:\")\n",
    "    for vowel, count in vowel_count.items():\n",
    "        print(f\"{vowel}: {count}\")\n",
    "\n",
    "    percentage = (total_vowels / len(user_input)) * 100\n",
    "    print(f\"\\nPercentage of vowels in the given string: {percentage:.2f}%\")\n",
    "\n",
    "if __name__ == \"__main__\":\n",
    "    main()\n"
   ]
  }
 ],
 "metadata": {
  "kernelspec": {
   "display_name": "Python 3",
   "language": "python",
   "name": "python3"
  },
  "language_info": {
   "codemirror_mode": {
    "name": "ipython",
    "version": 3
   },
   "file_extension": ".py",
   "mimetype": "text/x-python",
   "name": "python",
   "nbconvert_exporter": "python",
   "pygments_lexer": "ipython3",
   "version": "3.11.4"
  },
  "orig_nbformat": 4
 },
 "nbformat": 4,
 "nbformat_minor": 2
}
