{
 "cells": [
  {
   "cell_type": "markdown",
   "metadata": {},
   "source": [
    "Mix & Match Calculator\n",
    "\n",
    "Create Lists for [Item, Quantity, Price] with 10 random values of your choice.\n",
    "The item list can be of any category of your choice [Food Items, Grocery Items,...] or anything you choose that can be bought.\n",
    "\n",
    "Prepare a CSV file with combinations of these values with the help of random index & looping statements and other control structures we discussed in class.\n",
    "\n",
    "To get a random index or number to access items from the list, you can use the following:\n",
    "random is a library in Python that can be used to generate random numbers.\n",
    "\n",
    "import random # Importing the external library\n",
    "r1 = random.randint(0, 10) # Generating the random number from the range and store it in r1 variable\n",
    "\n",
    "More details of the Random library usage can be found here.\n",
    "\n",
    "Your CSV file should have a minimum of 100 rows created randomly with the data in the list and the random library.\n",
    "Each row in the CSV file will have (item, Quantity, and UnitPrice).\n",
    "\n",
    "After preparing the CSV with Python code, you need to compute\n",
    "The total cost for each row, display the result from the first 5 rows and the last 10 rows\n",
    "Calculate the total cost for each unique item in the dataset.\n",
    "Item Name | Total Quantity | Total\n",
    "Print the minimum & maximum price for each item sold dont import csv and simpler code\n",
    "Note:\n",
    "Create a folder Lab 05.\n",
    "Inside the folder, you will have Lab 05.ipynb and the CSV file will have your name as the filename.\n",
    "Submit the CSV file and IPYNB file in Moodle, and Update the same in GitHub and Submit the link in the text area provided."
   ]
  },
  {
   "cell_type": "code",
   "execution_count": null,
   "metadata": {},
   "outputs": [],
   "source": []
  },
  {
   "cell_type": "code",
   "execution_count": 4,
   "metadata": {},
   "outputs": [],
   "source": [
    "import random\n",
    "items = ['luffy','zoro','nami','hawkeye','itachi','nico','jinbei','kaido','brook','naruto']\n",
    "quantity = ['1','2','3','4','5','6','7','8','9','10']\n",
    "price = ['69','46','56','76','763','736','366','535','3526','3653']\n",
    "file=open(\"random.csv\",\"w+\")\n",
    "file.write(\"items\"+\"\\t\"\"quantity\"+\"\\t\"+\"price\\n\")\n",
    "for i in range(0,100):\n",
    "    r1=random.choice(items)\n",
    "    r2=random.choice(quantity)\n",
    "    r3=random.choice(price)\n",
    "    file.write(r1+\"\\t\\t\"+r2+\"\\t\\t\"+r3+\"\\n\")\n",
    "file.close()\n",
    "\n",
    "\n"
   ]
  }
 ],
 "metadata": {
  "kernelspec": {
   "display_name": "Python 3",
   "language": "python",
   "name": "python3"
  },
  "language_info": {
   "codemirror_mode": {
    "name": "ipython",
    "version": 3
   },
   "file_extension": ".py",
   "mimetype": "text/x-python",
   "name": "python",
   "nbconvert_exporter": "python",
   "pygments_lexer": "ipython3",
   "version": "3.11.4"
  },
  "orig_nbformat": 4
 },
 "nbformat": 4,
 "nbformat_minor": 2
}
