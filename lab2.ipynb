{
 "cells": [
  {
   "cell_type": "markdown",
   "metadata": {},
   "source": [
    "28/8/23\n",
    "\n",
    "Lab 02\n",
    "\n",
    "The Name Collector's Quest\n",
    "\n",
    "In a quaint little village named Harmonyville, there lived a curious individual named Alex. Alex was known for his passion for collecting names. His dream was to create an extensive list of unique names that would reflect the diversity and camaraderie of the village. Alex used to sit in the village junction; as the villagers passed, Alex eagerly approached them and asked for their names. With each encounter, they diligently recorded the names in his notepad.\n",
    "\n",
    "To keep things organized, You were one among the villagers and have decided to create a program to assist them in this endeavour. You asked Alex to begin by defining a list on his laptop instead of his notepad, and you started writing functions to add names.\n",
    "\n",
    "The function that you have defined should do\n",
    "\n",
    "Whenever a new name is encountered, record it. If an existing name comes, the program says the name exists. Alex makes a lot of mistakes; your program also has to do the necessary validations. The function quits when q is entered as a name and prints all the names in the list, and then he has to call the function. As a data analyst of the village, analyse the names in the list. Days turned into weeks and weeks into months. Alex's name collection grew beyond their wildest dreams. The villagers admired their dedication and the beautifully organized list they had created. Alex's program became a legend in Harmonyville, passed down from generation to generation.\n",
    "\n",
    "And so, in the heart of the village, Alex's legacy lived on - a story of names, community, and the power of coding to bring dreams to life.\n",
    "\n",
    "Note: File name ‘Lab 02.ipynb’ Update README.md file with the question and link to the file. Note the mistakes Alex will make, find solutions for them, and implement them in the program. Explain the analysis that you are planning to do and the results. Concepts to be used: List, Pre Defined Functions, User Defined Functions"
   ]
  },
  {
   "cell_type": "code",
   "execution_count": 25,
   "metadata": {},
   "outputs": [],
   "source": [
    "name=[]\n",
    "def Names(n):\n",
    "    m=n.upper()\n",
    "    for i in m:\n",
    "            if i.isalpha(): #check if the characters in the string is an alphabet or not. If it is the program continues else the program is yterminated.\n",
    "                continue\n",
    "            else: \n",
    "                print(\"Incorrect name kindly check the name you have entered again\")\n",
    "                return\n",
    "    if m=='E': #condition for termination of the program\n",
    "        print(\"Thank you!These are the  Names\",sorted(name))\n",
    "    elif m in name: #checks if the name entered is present in the list or not\n",
    "        print(m, \"This name already exists in the list\")\n",
    "    else:\n",
    "        name.append(m) #adds the name to the list if it does not already exist.\n",
    "        print(m, \"added succesfully\")"
   ]
  },
  {
   "cell_type": "code",
   "execution_count": 26,
   "metadata": {},
   "outputs": [
    {
     "name": "stdout",
     "output_type": "stream",
     "text": [
      "LERAN added succesfully\n"
     ]
    }
   ],
   "source": [
    "Names('Leran')"
   ]
  },
  {
   "cell_type": "code",
   "execution_count": 27,
   "metadata": {},
   "outputs": [
    {
     "name": "stdout",
     "output_type": "stream",
     "text": [
      "BRITTO added succesfully\n"
     ]
    }
   ],
   "source": [
    "Names('britto')"
   ]
  },
  {
   "cell_type": "code",
   "execution_count": 28,
   "metadata": {},
   "outputs": [
    {
     "name": "stdout",
     "output_type": "stream",
     "text": [
      "ANUSHYA added succesfully\n"
     ]
    }
   ],
   "source": [
    "Names('Anushya')"
   ]
  },
  {
   "cell_type": "code",
   "execution_count": 29,
   "metadata": {},
   "outputs": [
    {
     "name": "stdout",
     "output_type": "stream",
     "text": [
      "Incorrect name kindly check the name you have entered again\n"
     ]
    }
   ],
   "source": [
    "Names('A*nushya')"
   ]
  },
  {
   "cell_type": "code",
   "execution_count": 30,
   "metadata": {},
   "outputs": [
    {
     "name": "stdout",
     "output_type": "stream",
     "text": [
      "Thank you!These are the  Names ['ANUSHYA', 'BRITTO', 'LERAN']\n"
     ]
    }
   ],
   "source": [
    "Names('e')"
   ]
  }
 ],
 "metadata": {
  "kernelspec": {
   "display_name": "Python 3",
   "language": "python",
   "name": "python3"
  },
  "language_info": {
   "codemirror_mode": {
    "name": "ipython",
    "version": 3
   },
   "file_extension": ".py",
   "mimetype": "text/x-python",
   "name": "python",
   "nbconvert_exporter": "python",
   "pygments_lexer": "ipython3",
   "version": "3.11.4"
  },
  "orig_nbformat": 4
 },
 "nbformat": 4,
 "nbformat_minor": 2
}
