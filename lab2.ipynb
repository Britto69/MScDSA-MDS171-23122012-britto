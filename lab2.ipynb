{
 "cells": [
  {
   "cell_type": "markdown",
   "metadata": {},
<<<<<<< HEAD
   "source": [
    "Lab 02\n",
    "The Name Collector's Quest\n",
    "\n",
    "In a quaint little village named Harmonyville, there lived a curious individual named Alex. Alex was known for his passion for collecting names. His dream was to create an extensive list of unique names that would reflect the diversity and camaraderie of the village. Alex used to sit in the village junction; as the villagers passed, Alex eagerly approached them and asked for their names. With each encounter, they diligently recorded the names in his notepad.\n",
    "\n",
    "To keep things organized, You were one among the villagers and have decided to create a program to assist them in this endeavour. You asked Alex to begin by defining a list on his laptop instead of his notepad, and you started writing functions to add names.\n",
    "\n",
    "The function that you have defined should do\n",
    "\n",
    "Whenever a new name is encountered, record it.\n",
    "If an existing name comes, the program says the name exists.\n",
    "Alex makes a lot of mistakes; your program also has to do the necessary validations.\n",
    "The function quits when q is entered as a name and prints all the names in the list, and then he has to call the function.\n",
    "As a data analyst of the village, analyse the names in the list.\n",
    "Days turned into weeks and weeks into months. Alex's name collection grew beyond their wildest dreams. The villagers admired their dedication and the beautifully organized list they had created. Alex's program became a legend in Harmonyville, passed down from generation to generation.\n",
    "\n",
    "And so, in the heart of the village, Alex's legacy lived on - a story of names, community, and the power of coding to bring dreams to life.\n",
    "\n",
    "Note:\n",
    "File name ‘Lab 02.ipynb’\n",
    "Update README.md file with the question and link to the file.\n",
    "Note the mistakes Alex will make, find solutions for them, and implement them in the program.\n",
    "Explain the analysis that you are planning to do and the results.\n",
    "Concepts to be used: List, Pre Defined Functions, User Defined Functions"
   ]
  },
  {
   "cell_type": "code",
   "execution_count": 32,
=======
   "source": []
  },
  {
   "cell_type": "code",
   "execution_count": 28,
>>>>>>> 193c5be (lab2)
   "metadata": {},
   "outputs": [],
   "source": [
    "name=[]\n",
    "def Name(n):\n",
    "    for i in n:\n",
    "        if i.isalpha():\n",
<<<<<<< HEAD
    "            continue\n",
    "        else:\n",
    "            print(\"error\")\n",
=======
    "            print(\"ERROR\")\n",
>>>>>>> 193c5be (lab2)
    "            return\n",
    "    if n =='q':\n",
    "        print(\"this is the list\",sorted(name))\n",
    "    elif n in name:\n",
    "        print(n,\"name alredy exist\")\n",
    "    else:\n",
    "        name.append(n)\n",
    "        print(n,\"name entered successfullllyyyyy\")"
   ]
  },
  {
   "cell_type": "code",
<<<<<<< HEAD
   "execution_count": 33,
=======
   "execution_count": 29,
>>>>>>> 193c5be (lab2)
   "metadata": {},
   "outputs": [
    {
     "name": "stdout",
     "output_type": "stream",
     "text": [
<<<<<<< HEAD
      "Britto name entered successfullllyyyyy\n"
=======
      "ERROR\n"
>>>>>>> 193c5be (lab2)
     ]
    }
   ],
   "source": [
    "Name(\"Britto\")"
   ]
  },
  {
   "cell_type": "code",
<<<<<<< HEAD
   "execution_count": 34,
=======
   "execution_count": 30,
>>>>>>> 193c5be (lab2)
   "metadata": {},
   "outputs": [
    {
     "name": "stdout",
     "output_type": "stream",
     "text": [
<<<<<<< HEAD
      "Naruto name entered successfullllyyyyy\n"
=======
      "ERROR\n"
>>>>>>> 193c5be (lab2)
     ]
    }
   ],
   "source": [
    "Name(\"Naruto\")"
   ]
  },
  {
   "cell_type": "code",
<<<<<<< HEAD
   "execution_count": 35,
   "metadata": {},
   "outputs": [
    {
     "name": "stdout",
     "output_type": "stream",
     "text": [
      "this is the list ['Britto', 'Naruto']\n"
     ]
    }
   ],
   "source": [
    "Name(\"q\")"
   ]
  },
  {
   "cell_type": "code",
   "execution_count": 36,
   "metadata": {},
   "outputs": [
    {
     "name": "stdout",
     "output_type": "stream",
     "text": [
      "Anushya name entered successfullllyyyyy\n"
     ]
    }
   ],
   "source": [
    "Name(\"Anushya\")"
   ]
  },
  {
   "cell_type": "code",
   "execution_count": 37,
=======
   "execution_count": 22,
>>>>>>> 193c5be (lab2)
   "metadata": {},
   "outputs": [
    {
     "name": "stdout",
     "output_type": "stream",
     "text": [
      "this is the list ['Anushya', 'Britto', 'Naruto']\n"
     ]
    }
   ],
   "source": [
    "Name(\"q\")"
   ]
  },
  {
   "cell_type": "code",
<<<<<<< HEAD
   "execution_count": 38,
=======
   "execution_count": 23,
   "metadata": {},
   "outputs": [
    {
     "name": "stdout",
     "output_type": "stream",
     "text": [
      "Anushya name alredy exist\n"
     ]
    }
   ],
   "source": [
    "Name(\"Anushya\")"
   ]
  },
  {
   "cell_type": "code",
   "execution_count": 24,
   "metadata": {},
   "outputs": [
    {
     "name": "stdout",
     "output_type": "stream",
     "text": [
      "this is the list ['Anushya', 'Britto', 'Naruto']\n"
     ]
    }
   ],
   "source": [
    "Name(\"q\")"
   ]
  },
  {
   "cell_type": "code",
   "execution_count": 25,
>>>>>>> 193c5be (lab2)
   "metadata": {},
   "outputs": [
    {
     "name": "stdout",
     "output_type": "stream",
     "text": [
      "Luffy name entered successfullllyyyyy\n"
     ]
    }
   ],
   "source": [
    "Name(\"Luffy\")"
   ]
  },
  {
   "cell_type": "code",
<<<<<<< HEAD
   "execution_count": 39,
=======
   "execution_count": 26,
>>>>>>> 193c5be (lab2)
   "metadata": {},
   "outputs": [
    {
     "name": "stdout",
     "output_type": "stream",
     "text": [
<<<<<<< HEAD
      "error\n"
=======
      "R.Zoro name entered successfullllyyyyy\n"
>>>>>>> 193c5be (lab2)
     ]
    }
   ],
   "source": [
    "Name(\"R.Zoro\")"
   ]
  },
  {
   "cell_type": "code",
<<<<<<< HEAD
   "execution_count": 40,
=======
   "execution_count": 27,
>>>>>>> 193c5be (lab2)
   "metadata": {},
   "outputs": [
    {
     "name": "stdout",
     "output_type": "stream",
     "text": [
<<<<<<< HEAD
      "this is the list ['Anushya', 'Britto', 'Luffy', 'Naruto']\n"
=======
      "this is the list ['Anushya', 'Britto', 'Luffy', 'Naruto', 'R.Zoro']\n"
>>>>>>> 193c5be (lab2)
     ]
    }
   ],
   "source": [
    "Name(\"q\")"
   ]
  },
  {
   "cell_type": "code",
   "execution_count": null,
   "metadata": {},
   "outputs": [],
   "source": []
  }
 ],
 "metadata": {
  "kernelspec": {
   "display_name": "Python 3",
   "language": "python",
   "name": "python3"
  },
  "language_info": {
   "codemirror_mode": {
    "name": "ipython",
    "version": 3
   },
   "file_extension": ".py",
   "mimetype": "text/x-python",
   "name": "python",
   "nbconvert_exporter": "python",
   "pygments_lexer": "ipython3",
   "version": "3.11.4"
  },
  "orig_nbformat": 4
 },
 "nbformat": 4,
 "nbformat_minor": 2
}
